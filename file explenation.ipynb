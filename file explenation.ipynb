{
 "cells": [
  {
   "cell_type": "markdown",
   "id": "a3c8b6d7-9e53-4bff-878b-800a3861aa62",
   "metadata": {},
   "source": [
    "1.. Discuss the scenarios where multithreading is preferable to multiprocessing and scenarios where \n",
    "multiprocessing is a better choice"
   ]
  },
  {
   "cell_type": "markdown",
   "id": "bfc096c7-71a5-469d-a95b-dd3772f56425",
   "metadata": {},
   "source": [
    " There are a few situations where multiple processes might be better than a single multi-threaded process:\r\n"
   ]
  },
  {
   "cell_type": "markdown",
   "id": "102c6f44-0793-4744-84cb-3e54cefdf1a7",
   "metadata": {},
   "source": [
    "1.If you want to parallelize some software that wasn't designed to run (well) in multiple threads in a single process. (Two examples would be the Python interpreter whose GIL limits multithreaded performance, and GUI toolkits like Qt that require all GUI widgets to live in a single thread)\n"
   ]
  },
  {
   "cell_type": "markdown",
   "id": "6cc93191-b829-4784-9896-0d9e526f5bac",
   "metadata": {},
   "source": [
    "2.If you're worried that the software might crash or corrupt data and want to limit the scope of the damage that occurs if/when that happens. (if one of the threads of a multithreaded program goes awry, it can and usually does affect/corrupt/crash all of the threads in the process; OTOH if a process crashes, the other processes will not be directly affected)\n"
   ]
  },
  {
   "cell_type": "markdown",
   "id": "11a56505-cddd-4bbf-a6ee-066647eff7cf",
   "metadata": {},
   "source": [
    "3.If you want your software to be able to recover from a crash. That's nearly impossible to do in a single-process program, but with multiple processes you can have a parent \"babysitter\" process that watches for when its children crash or exit and responds by re-launching them when necessary.\n"
   ]
  },
  {
   "cell_type": "markdown",
   "id": "07f5af4a-9713-4cde-b486-08aff2087efd",
   "metadata": {},
   "source": [
    "2.Describe what a process pool is and how it helps in managing multiple processes efficiently.\r\n"
   ]
  },
  {
   "cell_type": "markdown",
   "id": "cf3fe963-fcfe-4dfc-8b68-7bb1e6014410",
   "metadata": {},
   "source": [
    " A process pool has a bunch of processes in it, and a single interface (the pool) to give them work. When you give work to the process pool, it chooses one of the processes in it and the work is given to the process. If there's more work than available processes, then the pool holds on to the work until one of the processes is idle and can receive it.\r\n"
   ]
  },
  {
   "cell_type": "markdown",
   "id": "e24aa512-2259-4fd6-b2f6-7cf41daf400d",
   "metadata": {},
   "source": [
    "A process pool helps manage multiple processes efficiently by automatically distributing tasks to available processors.\n"
   ]
  },
  {
   "cell_type": "markdown",
   "id": "35b9d22c-7b1b-4b4a-8ab4-ebd11fe2b7fd",
   "metadata": {},
   "source": [
    "How a Process pool works :-"
   ]
  },
  {
   "cell_type": "markdown",
   "id": "9ef13529-cf12-42ca-9168-cfd866c87c6f",
   "metadata": {},
   "source": [
    "1. Creation of worker processes :-"
   ]
  },
  {
   "cell_type": "markdown",
   "id": "f3e63f5b-fb6b-42a0-97f3-e16ad9192c97",
   "metadata": {},
   "source": [
    "When a process pool is created a fixed number of wprker processes are initilized . these processe. if all workers are busy the task is queued until a worker becomes available."
   ]
  },
  {
   "cell_type": "markdown",
   "id": "49ad9854-5c9c-427a-bd2e-e387cab39ddb",
   "metadata": {},
   "source": [
    "2.Task Assignment:-"
   ]
  },
  {
   "cell_type": "markdown",
   "id": "78cad444-8dcb-45a6-86ae-8f8d2bd95008",
   "metadata": {},
   "source": [
    "when a ne task is submitted to the process pool,it is assigned to one of the available worker processes. If all worker are busy the task is queued untill a worker becomes available."
   ]
  },
  {
   "cell_type": "markdown",
   "id": "81b80cad-efab-49d2-b4d8-58c6a384b80c",
   "metadata": {},
   "source": [
    "3.Task Execution:-"
   ]
  },
  {
   "cell_type": "markdown",
   "id": "34245843-d381-44e7-bf54-06df062291f1",
   "metadata": {},
   "source": [
    "Each worker process executes its assigned task independently. because these tasks run in separate processess they can take advantage of multiple cpu cores."
   ]
  },
  {
   "cell_type": "markdown",
   "id": "ce6fa8f7-f865-4ba6-be70-4ca61371c0e2",
   "metadata": {},
   "source": [
    "4.Reusing Workers:-"
   ]
  },
  {
   "cell_type": "markdown",
   "id": "b3956123-e91e-4c9c-9513-f838a9a04b53",
   "metadata": {},
   "source": [
    "After a worker process completes a task , it becomes idle and ready to take on new taske=s .This reuse of processes reduces the overhead associated with creating and destroying processes repeatedly."
   ]
  },
  {
   "cell_type": "markdown",
   "id": "a075ac6d-931b-4576-96d3-e7b6f2ee70b6",
   "metadata": {},
   "source": [
    "3.Describe what a process pool is and how it helps in managing multiple processes efficiently.\n"
   ]
  },
  {
   "cell_type": "markdown",
   "id": "5c1f5273-89ce-4e10-8f29-61b4844f3185",
   "metadata": {},
   "source": [
    "A process pool is a collection of worker processes that are managed collectively to perform tasks concurrently. It’s a common design pattern used in computing to handle multiple tasks efficiently, especially when dealing with tasks that can be executed in parallel."
   ]
  },
  {
   "cell_type": "markdown",
   "id": "6e834c3c-2a78-4fc6-9871-97f249fc8e67",
   "metadata": {},
   "source": [
    "4. Write a Python program using multithreading where one thread adds numbers to a list, and another \n",
    "thread removes numbers from the list. Implement a mechanism to avoid race conditions using \n",
    "threading.Lock"
   ]
  },
  {
   "cell_type": "code",
   "execution_count": 11,
   "id": "efe870a4-e61a-49df-b8f3-2ab45099b1c7",
   "metadata": {},
   "outputs": [
    {
     "name": "stdout",
     "output_type": "stream",
     "text": [
      "Factorial of 1 is 1\n",
      "Factorial of 2 is 2\n",
      "Factorial of 3 is 6\n",
      "Factorial of 4 is 24\n",
      "Factorial of 5 is 120\n",
      "Factorial of 6 is 720\n",
      "Factorial of 7 is 5040\n",
      "Factorial of 8 is 40320\n",
      "Factorial of 9 is 362880\n",
      "Factorial of 10 is 3628800\n"
     ]
    }
   ],
   "source": [
    "from concurrent.futures import ThreadPoolExecutor\n",
    "import math\n",
    "\n",
    "# Function to compute the factorial of a number\n",
    "def factorial(n):\n",
    "    return math.factorial(n)\n",
    "\n",
    "def main():\n",
    "    # List of numbers for which we want to calculate factorials\n",
    "    numbers = range(1, 11)\n",
    "\n",
    "    # Create a ThreadPoolExecutor to manage a pool of threads\n",
    "    with ThreadPoolExecutor() as executor:\n",
    "        # Map the factorial function to the numbers list concurrently\n",
    "        results = list(executor.map(factorial, numbers))\n",
    "\n",
    "    # Print the results\n",
    "    for number, result in zip(numbers, results):\n",
    "        print(f\"Factorial of {number} is {result}\")\n",
    "\n",
    "if __name__ == \"__main__\":\n",
    "    main()"
   ]
  },
  {
   "cell_type": "markdown",
   "id": "609af703-9cee-4dac-bcfc-ab7f0b163ff9",
   "metadata": {},
   "source": [
    "5.Describe the methods and tools available in Python for safely sharing data between threads and processes.\n"
   ]
  },
  {
   "cell_type": "markdown",
   "id": "b7013615-422c-4e74-8292-22a621150e8e",
   "metadata": {},
   "source": [
    " If we have multiple threads in the program, and one wants to safely communicate or exchange data between them.\n"
   ]
  },
  {
   "cell_type": "markdown",
   "id": "67397699-2475-4a4f-a2a9-63598d87b405",
   "metadata": {},
   "source": [
    "The safest way to send data from one thread to another is to use a Queue from the queue library. To do this, create a Queue instance that is shared by the threads. Threads then use put() or get() operations to add or remove items from the queue as shown in the code given below.\n"
   ]
  },
  {
   "cell_type": "markdown",
   "id": "792cb91e-112c-47c3-be90-e711f8b282b2",
   "metadata": {},
   "source": [
    "6.When a Python program meets an error, it stops the execution of the rest of the program. An error in Python might be either an error in the syntax of an expression or a Python exception. We will see what an exception is.\n"
   ]
  },
  {
   "cell_type": "markdown",
   "id": "6c8bfdd1-0f69-4c36-bb3b-affb087655fe",
   "metadata": {},
   "source": [
    " An exception in Python is an incident that happens while executing a program that causes the regular course of the program's commands to be disrupted. When a Python code comes across a condition it can't handle, it raises an exception. An object in Python that describes an error is called an exception.\n"
   ]
  },
  {
   "cell_type": "markdown",
   "id": "cecbe6a0-7a74-4e89-a0b9-7c69ef94a7c4",
   "metadata": {},
   "source": [
    "When a Python program meets an error, it stops the execution of the rest of the program. An error in Python might be either an error in the syntax of an expression or a Python exception. We will see what an exception is. \n"
   ]
  },
  {
   "cell_type": "markdown",
   "id": "334cb4c6-911c-4ea3-a5a2-b49597c0924c",
   "metadata": {},
   "source": [
    "7. Create a program that uses a thread pool to calculate the factorial of numbers from 1 to 10 concurrently. \r\n",
    "Use concurrent.futures.ThreadPoolExecutor to manage the thread.s"
   ]
  },
  {
   "cell_type": "code",
   "execution_count": null,
   "id": "878e3d63-9519-43f8-8354-10d2ad60247a",
   "metadata": {},
   "outputs": [],
   "source": [
    "import multiprocessing\n",
    "import time\n",
    "\n",
    "# Function to compute the square of a number\n",
    "def square(n):\n",
    "    return n * n\n",
    "\n",
    "def measure_time(pool_size, numbers):\n",
    "    # Start the timer\n",
    "    start_time = time.time()\n",
    "\n",
    "    # Create a pool of processes with the specified size\n",
    "    with multiprocessing.Pool(processes=pool_size) as pool:\n",
    "        # Map the square function to the list of numbers in parallel\n",
    "        results = pool.map(square, numbers)\n",
    "\n",
    "    # End the timer\n",
    "    end_time = time.time()\n",
    "\n",
    "    # Calculate elapsed time\n",
    "    elapsed_time = end_time - start_time\n",
    "\n",
    "    return results, elapsed_time\n",
    "\n",
    "def main():\n",
    "    # List of numbers for which we want to compute squares\n",
    "    numbers = list(range(1, 11))\n",
    "    \n",
    "    # Different pool sizes to test\n",
    "    pool_sizes = [2, 4, 8]\n",
    "\n",
    "    # Test the computation with different pool sizes\n",
    "    for size in pool_sizes:\n",
    "        results, elapsed_time = measure_time(size, numbers)\n",
    "        print(f\"Pool size: {size}, Results: {results}, Time taken: {elapsed_time:.6f} seconds\")\n",
    "\n",
    "if __name__ == \"__main__\":\n",
    "    main()"
   ]
  },
  {
   "cell_type": "markdown",
   "id": "74a299c3-8d95-4726-8334-d52201e3ad12",
   "metadata": {},
   "source": [
    "8.Create a Python program that uses multiprocessing.Pool to compute the square of numbers from 1 to 10 in \r\n",
    "parallel. Measure the time taken to perform this computation using a pool of different sizes (e.g., 2, 4, 8 \r\n",
    "processes)"
   ]
  },
  {
   "cell_type": "code",
   "execution_count": null,
   "id": "3d83ee62-09a3-4a7c-96c8-dbd440fd1cff",
   "metadata": {},
   "outputs": [],
   "source": [
    "import multiprocessing\n",
    "import time\n",
    "\n",
    "# Function to compute the square of a number\n",
    "def square(n):\n",
    "    return n * n\n",
    "\n",
    "def measure_time(pool_size, numbers):\n",
    "    # Start the timer\n",
    "    start_time = time.time()\n",
    "\n",
    "    # Create a pool of processes with the specified size\n",
    "    with multiprocessing.Pool(processes=pool_size) as pool:\n",
    "        # Map the square function to the list of numbers in parallel\n",
    "        results = pool.map(square, numbers)\n",
    "\n",
    "    # End the timer\n",
    "    end_time = time.time()\n",
    "\n",
    "    # Calculate elapsed time\n",
    "    elapsed_time = end_time - start_time\n",
    "\n",
    "    return results, elapsed_time\n",
    "\n",
    "def main():\n",
    "    # List of numbers for which we want to compute squares\n",
    "    numbers = list(range(1, 11))\n",
    "    \n",
    "    # Different pool sizes to test\n",
    "    pool_sizes = [2, 4, 8]\n",
    "\n",
    "    # Test the computation with different pool sizes\n",
    "    for size in pool_sizes:\n",
    "        results, elapsed_time = measure_time(size, numbers)\n",
    "        print(f\"Pool size: {size}, Results: {results}, Time taken: {elapsed_time:.6f} seconds\")\n",
    "\n",
    "if __name__ == \"__main__\":\n",
    "    main()"
   ]
  }
 ],
 "metadata": {
  "kernelspec": {
   "display_name": "Python 3 (ipykernel)",
   "language": "python",
   "name": "python3"
  },
  "language_info": {
   "codemirror_mode": {
    "name": "ipython",
    "version": 3
   },
   "file_extension": ".py",
   "mimetype": "text/x-python",
   "name": "python",
   "nbconvert_exporter": "python",
   "pygments_lexer": "ipython3",
   "version": "3.12.4"
  }
 },
 "nbformat": 4,
 "nbformat_minor": 5
}
